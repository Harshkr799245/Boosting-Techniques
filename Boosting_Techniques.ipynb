{
  "nbformat": 4,
  "nbformat_minor": 0,
  "metadata": {
    "colab": {
      "provenance": []
    },
    "kernelspec": {
      "name": "python3",
      "display_name": "Python 3"
    },
    "language_info": {
      "name": "python"
    }
  },
  "cells": [
    {
      "cell_type": "markdown",
      "source": [
        "#Boosting Techniques"
      ],
      "metadata": {
        "id": "Koo1qrqFRPpR"
      }
    },
    {
      "cell_type": "markdown",
      "source": [
        "1. What is Boosting in Machine Learning? Explain how it improves weak\n",
        "learners.\n",
        "   -  Boosting is an ensemble technique in machine learning that combines multiple weak learners (typically decision trees) to form a strong learner. A weak learner is a model that performs only slightly better than random guessing. Boosting works sequentially, where each new model focuses on correcting the errors of the previous models.\n",
        "\n",
        "   - How it improves weak learners:\n",
        "\n",
        "        Assigns weights to training samples. Initially, all samples are equally weighted.\n",
        "\n",
        "        After training each weak learner, misclassified samples get higher weights.\n",
        "\n",
        "        The next learner focuses more on these difficult samples.\n",
        "\n",
        "        Final prediction is made by weighted majority voting (classification) or weighted sum (regression).\n",
        "\n",
        "     This sequential learning reduces bias and variance, improving prediction accuracy.\n",
        "\n",
        "2. : What is the difference between AdaBoost and Gradient Boosting in terms\n",
        "of how models are trained?\n",
        "  - AdaBoost:\n",
        "\n",
        "        - Weight-based approach: Adjusts sample weights after each iteration\n",
        "        -   Focus mechanism: Increases weights of misclassified samples, decreases weights of correctly classified samples\n",
        "        -   Model training: Each new model is trained on the reweighted dataset\n",
        "        -   Error calculation: Uses weighted error rate to determine model importance\n",
        "        -   Combination: Final prediction is a weighted vote of all models\n",
        "        -   Simplicity: Generally uses simple base learners like decision stumps\n",
        "        -   Speed: Faster training due to simpler weight adjustment mechanism\n",
        "\n",
        " - Gradient Boosting:\n",
        "       - Residual-based approach: Fits new models to the residual errors of previous models\n",
        "       -  Gradient descent: Uses gradient descent optimization to minimize loss function\n",
        "       -  Model training: Each new model predicts the residuals (errors) of the ensemble so far\n",
        "       - Flexibility: Can optimize any differentiable loss function\n",
        "       - Combination: Final prediction is the sum of all model predictions\n",
        "       - Complexity: Can use more complex base learners and various loss functions\n",
        "       - Precision: More precise optimization through gradient-based learning\n",
        "\n",
        "\n",
        "3. How does regularization help in XGBoost?\n",
        "   - XGBoost uses regularization (L1 and L2 penalties) to avoid overfitting:\n",
        "\n",
        "      -  L1 regularization (Lasso): Encourages sparsity in leaf weights (some weights = 0).\n",
        "\n",
        "      -  L2 regularization (Ridge): Shrinks large weights to prevent over-complexity.\n",
        "\n",
        "      -  Learning rate (η): Shrinks contribution of each tree to stabilize learning.\n",
        "\n",
        "      -  Column & row sampling: Works like dropout to prevent overfitting.\n",
        "\n",
        "      -  This makes XGBoost more robust compared to standard Gradient Boosting.\n",
        "\n",
        "\n",
        "4.  Why is CatBoost considered efficient for handling categorical data?\n",
        "   - CatBoost is designed for categorical features:\n",
        "\n",
        "       -  Uses ordered target encoding (instead of one-hot encoding), reducing dimensionality and avoiding overfitting.\n",
        "\n",
        "       -  Handles high-cardinality categorical features efficiently.\n",
        "\n",
        "       -  Automatically detects categorical columns, so minimal preprocessing is required.\n",
        "\n",
        "      -   Reduces bias from \"target leakage\" using permutation-based encoding.\n",
        "\n",
        "        Thus, CatBoost is more efficient and accurate when datasets have many categorical variables.\n",
        "\n",
        "5. What are some real-world applications where boosting techniques are\n",
        "preferred over bagging methods?\n",
        "   - Fraud Detection → Boosting handles imbalanced data better than bagging.\n",
        "\n",
        "   -  Credit Scoring & Loan Default Prediction → Boosting captures complex relationships.\n",
        "\n",
        "   -  Healthcare Diagnostics (Cancer Detection) → Boosting gives higher accuracy.\n",
        "\n",
        "   -   Search Ranking (used by Google, Yandex).\n",
        "\n",
        "   -  Customer Churn Prediction → Boosting handles categorical + numeric features well.\n",
        "\n",
        "\n",
        "   \n",
        "\n",
        "\n",
        "\n"
      ],
      "metadata": {
        "id": "RultqLZNRRk-"
      }
    },
    {
      "cell_type": "markdown",
      "source": [
        "6. : Write a Python program to:\n",
        "● Train an AdaBoost Classifier on the Breast Cancer dataset\n",
        "● Print the model accuracy"
      ],
      "metadata": {
        "id": "Vk6ErDIXUo8C"
      }
    },
    {
      "cell_type": "code",
      "source": [
        "from sklearn.datasets import load_breast_cancer\n",
        "from sklearn.ensemble import AdaBoostClassifier\n",
        "from sklearn.model_selection import train_test_split\n",
        "from sklearn.metrics import accuracy_score\n",
        "\n",
        "# Load dataset\n",
        "data = load_breast_cancer()\n",
        "X, y = data.data, data.target\n",
        "\n",
        "# Split into train and test sets\n",
        "X_train, X_test, y_train, y_test = train_test_split(\n",
        "    X, y, test_size=0.2, random_state=42\n",
        ")\n",
        "\n",
        "# Initialize AdaBoost classifier\n",
        "model = AdaBoostClassifier(n_estimators=100, random_state=42)\n",
        "\n",
        "# Train the model\n",
        "model.fit(X_train, y_train)\n",
        "\n",
        "# Make predictions\n",
        "y_pred = model.predict(X_test)\n",
        "\n",
        "# Calculate accuracy\n",
        "accuracy = accuracy_score(y_test, y_pred)\n",
        "\n",
        "print(\"AdaBoost Classifier Accuracy:\", accuracy)\n"
      ],
      "metadata": {
        "colab": {
          "base_uri": "https://localhost:8080/"
        },
        "id": "KNJRvgr2U806",
        "outputId": "e0b3df2c-5737-4bcf-f8c2-9377cf87808a"
      },
      "execution_count": 1,
      "outputs": [
        {
          "output_type": "stream",
          "name": "stdout",
          "text": [
            "AdaBoost Classifier Accuracy: 0.9736842105263158\n"
          ]
        }
      ]
    },
    {
      "cell_type": "markdown",
      "source": [
        "7. Write a Python program to:\n",
        "● Train a Gradient Boosting Regressor on the California Housing dataset\n",
        "● Evaluate performance using R-squared score"
      ],
      "metadata": {
        "id": "KASTOGwCVGPV"
      }
    },
    {
      "cell_type": "code",
      "source": [
        "from sklearn.datasets import fetch_california_housing\n",
        "from sklearn.ensemble import GradientBoostingRegressor\n",
        "from sklearn.model_selection import train_test_split\n",
        "from sklearn.metrics import r2_score\n",
        "\n",
        "# Load dataset\n",
        "data = fetch_california_housing()\n",
        "X, y = data.data, data.target\n",
        "\n",
        "# Split into train and test sets\n",
        "X_train, X_test, y_train, y_test = train_test_split(\n",
        "    X, y, test_size=0.2, random_state=42\n",
        ")\n",
        "\n",
        "# Initialize Gradient Boosting Regressor\n",
        "model = GradientBoostingRegressor(n_estimators=200, learning_rate=0.1, random_state=42)\n",
        "\n",
        "# Train the model\n",
        "model.fit(X_train, y_train)\n",
        "\n",
        "# Predict on test set\n",
        "y_pred = model.predict(X_test)\n",
        "\n",
        "# Evaluate with R² score\n",
        "r2 = r2_score(y_test, y_pred)\n",
        "\n",
        "print(\"Gradient Boosting Regressor R² Score:\", r2)\n"
      ],
      "metadata": {
        "colab": {
          "base_uri": "https://localhost:8080/"
        },
        "id": "EvVQGFvtVUno",
        "outputId": "3f40e266-9ede-48bf-effa-d465089b54de"
      },
      "execution_count": 2,
      "outputs": [
        {
          "output_type": "stream",
          "name": "stdout",
          "text": [
            "Gradient Boosting Regressor R² Score: 0.8004451261281281\n"
          ]
        }
      ]
    },
    {
      "cell_type": "markdown",
      "source": [
        "8. Write a Python program to:\n",
        "● Train an XGBoost Classifier on the Breast Cancer dataset\n",
        "● Tune the learning rate using GridSearchCV\n",
        "● Print the best parameters and accuracy"
      ],
      "metadata": {
        "id": "TaMM1v43Vai3"
      }
    },
    {
      "cell_type": "code",
      "source": [
        "from sklearn.datasets import load_breast_cancer\n",
        "from sklearn.model_selection import train_test_split, GridSearchCV\n",
        "from sklearn.metrics import accuracy_score\n",
        "from xgboost import XGBClassifier\n",
        "\n",
        "# Load dataset\n",
        "data = load_breast_cancer()\n",
        "X, y = data.data, data.target\n",
        "\n",
        "# Train-test split\n",
        "X_train, X_test, y_train, y_test = train_test_split(\n",
        "    X, y, test_size=0.2, random_state=42\n",
        ")\n",
        "\n",
        "# Initialize XGBoost classifier (no need for use_label_encoder)\n",
        "xgb = XGBClassifier(eval_metric='logloss', random_state=42)\n",
        "\n",
        "# Parameter grid for learning_rate tuning\n",
        "param_grid = {\n",
        "    'learning_rate': [0.01, 0.05, 0.1, 0.2, 0.3]\n",
        "}\n",
        "\n",
        "# GridSearchCV\n",
        "grid_search = GridSearchCV(\n",
        "    estimator=xgb,\n",
        "    param_grid=param_grid,\n",
        "    scoring='accuracy',\n",
        "    cv=5,\n",
        "    n_jobs=-1\n",
        ")\n",
        "\n",
        "grid_search.fit(X_train, y_train)\n",
        "\n",
        "# Best model\n",
        "best_model = grid_search.best_estimator_\n",
        "\n",
        "# Predictions\n",
        "y_pred = best_model.predict(X_test)\n",
        "\n",
        "# Accuracy\n",
        "accuracy = accuracy_score(y_test, y_pred)\n",
        "\n",
        "print(\"Best Parameters:\", grid_search.best_params_)\n",
        "print(\"XGBoost Classifier Accuracy:\", accuracy)\n"
      ],
      "metadata": {
        "colab": {
          "base_uri": "https://localhost:8080/"
        },
        "id": "60StzAtbWEeW",
        "outputId": "70111c1c-de1a-4402-c29d-2ff43f7fa5d6"
      },
      "execution_count": 4,
      "outputs": [
        {
          "output_type": "stream",
          "name": "stdout",
          "text": [
            "Best Parameters: {'learning_rate': 0.2}\n",
            "XGBoost Classifier Accuracy: 0.956140350877193\n"
          ]
        }
      ]
    },
    {
      "cell_type": "markdown",
      "source": [
        "9.  Write a Python program to:\n",
        "● Train a CatBoost Classifier\n",
        "● Plot the confusion matrix using seaborn"
      ],
      "metadata": {
        "id": "RSf4DKplVsb6"
      }
    },
    {
      "cell_type": "code",
      "source": [
        "!pip install catboost\n"
      ],
      "metadata": {
        "colab": {
          "base_uri": "https://localhost:8080/"
        },
        "id": "M_1Vz5pCWZf3",
        "outputId": "ba5b49df-39b8-4fec-9384-f1f911754f2f"
      },
      "execution_count": 6,
      "outputs": [
        {
          "output_type": "stream",
          "name": "stdout",
          "text": [
            "Collecting catboost\n",
            "  Downloading catboost-1.2.8-cp312-cp312-manylinux2014_x86_64.whl.metadata (1.2 kB)\n",
            "Requirement already satisfied: graphviz in /usr/local/lib/python3.12/dist-packages (from catboost) (0.21)\n",
            "Requirement already satisfied: matplotlib in /usr/local/lib/python3.12/dist-packages (from catboost) (3.10.0)\n",
            "Requirement already satisfied: numpy<3.0,>=1.16.0 in /usr/local/lib/python3.12/dist-packages (from catboost) (2.0.2)\n",
            "Requirement already satisfied: pandas>=0.24 in /usr/local/lib/python3.12/dist-packages (from catboost) (2.2.2)\n",
            "Requirement already satisfied: scipy in /usr/local/lib/python3.12/dist-packages (from catboost) (1.16.1)\n",
            "Requirement already satisfied: plotly in /usr/local/lib/python3.12/dist-packages (from catboost) (5.24.1)\n",
            "Requirement already satisfied: six in /usr/local/lib/python3.12/dist-packages (from catboost) (1.17.0)\n",
            "Requirement already satisfied: python-dateutil>=2.8.2 in /usr/local/lib/python3.12/dist-packages (from pandas>=0.24->catboost) (2.9.0.post0)\n",
            "Requirement already satisfied: pytz>=2020.1 in /usr/local/lib/python3.12/dist-packages (from pandas>=0.24->catboost) (2025.2)\n",
            "Requirement already satisfied: tzdata>=2022.7 in /usr/local/lib/python3.12/dist-packages (from pandas>=0.24->catboost) (2025.2)\n",
            "Requirement already satisfied: contourpy>=1.0.1 in /usr/local/lib/python3.12/dist-packages (from matplotlib->catboost) (1.3.3)\n",
            "Requirement already satisfied: cycler>=0.10 in /usr/local/lib/python3.12/dist-packages (from matplotlib->catboost) (0.12.1)\n",
            "Requirement already satisfied: fonttools>=4.22.0 in /usr/local/lib/python3.12/dist-packages (from matplotlib->catboost) (4.59.1)\n",
            "Requirement already satisfied: kiwisolver>=1.3.1 in /usr/local/lib/python3.12/dist-packages (from matplotlib->catboost) (1.4.9)\n",
            "Requirement already satisfied: packaging>=20.0 in /usr/local/lib/python3.12/dist-packages (from matplotlib->catboost) (25.0)\n",
            "Requirement already satisfied: pillow>=8 in /usr/local/lib/python3.12/dist-packages (from matplotlib->catboost) (11.3.0)\n",
            "Requirement already satisfied: pyparsing>=2.3.1 in /usr/local/lib/python3.12/dist-packages (from matplotlib->catboost) (3.2.3)\n",
            "Requirement already satisfied: tenacity>=6.2.0 in /usr/local/lib/python3.12/dist-packages (from plotly->catboost) (8.5.0)\n",
            "Downloading catboost-1.2.8-cp312-cp312-manylinux2014_x86_64.whl (99.2 MB)\n",
            "\u001b[2K   \u001b[90m━━━━━━━━━━━━━━━━━━━━━━━━━━━━━━━━━━━━━━━━\u001b[0m \u001b[32m99.2/99.2 MB\u001b[0m \u001b[31m8.8 MB/s\u001b[0m eta \u001b[36m0:00:00\u001b[0m\n",
            "\u001b[?25hInstalling collected packages: catboost\n",
            "Successfully installed catboost-1.2.8\n"
          ]
        }
      ]
    },
    {
      "cell_type": "code",
      "source": [
        "from sklearn.datasets import load_breast_cancer\n",
        "from sklearn.model_selection import train_test_split\n",
        "from sklearn.metrics import confusion_matrix, accuracy_score\n",
        "from catboost import CatBoostClassifier\n",
        "import seaborn as sns\n",
        "import matplotlib.pyplot as plt\n",
        "\n",
        "# Load dataset\n",
        "data = load_breast_cancer()\n",
        "X, y = data.data, data.target\n",
        "\n",
        "# Split data\n",
        "X_train, X_test, y_train, y_test = train_test_split(\n",
        "    X, y, test_size=0.2, random_state=42\n",
        ")\n",
        "\n",
        "# Initialize CatBoost classifier\n",
        "model = CatBoostClassifier(iterations=200, learning_rate=0.1, depth=6, verbose=0, random_state=42)\n",
        "\n",
        "# Train the model\n",
        "model.fit(X_train, y_train)\n",
        "\n",
        "# Predictions\n",
        "y_pred = model.predict(X_test)\n",
        "\n",
        "# Accuracy\n",
        "accuracy = accuracy_score(y_test, y_pred)\n",
        "print(\"CatBoost Classifier Accuracy:\", accuracy)\n",
        "\n",
        "# Confusion matrix\n",
        "cm = confusion_matrix(y_test, y_pred)\n",
        "\n",
        "# Plot using seaborn\n",
        "plt.figure(figsize=(6,4))\n",
        "sns.heatmap(cm, annot=True, fmt=\"d\", cmap=\"Blues\", xticklabels=data.target_names, yticklabels=data.target_names)\n",
        "plt.xlabel(\"Predicted\")\n",
        "plt.ylabel(\"Actual\")\n",
        "plt.title(\"Confusion Matrix - CatBoost Classifier\")\n",
        "plt.show()\n"
      ],
      "metadata": {
        "colab": {
          "base_uri": "https://localhost:8080/",
          "height": 428
        },
        "id": "THZqguAMWMCt",
        "outputId": "cad8142b-f126-4648-dfb6-2af100f38b75"
      },
      "execution_count": 7,
      "outputs": [
        {
          "output_type": "stream",
          "name": "stdout",
          "text": [
            "CatBoost Classifier Accuracy: 0.9649122807017544\n"
          ]
        },
        {
          "output_type": "display_data",
          "data": {
            "text/plain": [
              "<Figure size 600x400 with 2 Axes>"
            ],
            "image/png": "[encoded data removed]"
          },
          "metadata": {}
        }
      ]
    },
    {
      "cell_type": "markdown",
      "source": [
        "10. You're working for a FinTech company trying to predict loan default using\n",
        "customer demographics and transaction behavior.\n",
        "The dataset is imbalanced, contains missing values, and has both numeric and\n",
        "categorical features.\n",
        "Describe your step-by-step data science pipeline using boosting techniques:\n",
        "● Data preprocessing & handling missing/categorical values\n",
        "● Choice between AdaBoost, XGBoost, or CatBoost\n",
        "● Hyperparameter tuning strategy\n",
        "● Evaluation metrics you'd choose and why\n",
        "● How the business would benefit from your model"
      ],
      "metadata": {
        "id": "BEvZEKXeW7C_"
      }
    },
    {
      "cell_type": "markdown",
      "source": [
        "ANSWER:-\n",
        "\n",
        "   - 1. Data Preprocessing & Handling Missing/Categorical Values\n",
        "\n",
        "     - Missing values\n",
        "\n",
        "        Numeric features: impute using median (robust to outliers) or KNN imputer.\n",
        "\n",
        "        Categorical features: impute using mode or create a new category \"Missing\".\n",
        "\n",
        "        If % of missing is very high → consider dropping the feature.\n",
        "\n",
        "    - Categorical encoding\n",
        "\n",
        "        For tree-based boosting methods (XGBoost, CatBoost):\n",
        "\n",
        "        XGBoost: needs one-hot encoding or target encoding for high-cardinality categories.\n",
        "\n",
        "        CatBoost: natively handles categorical features → no manual encoding required.\n",
        "\n",
        "    - Feature scaling\n",
        "\n",
        "        Boosting algorithms don’t require strict normalization, but scaling may help with convergence for some variants.\n",
        "\n",
        "    - Imbalance handling\n",
        "\n",
        "        Use techniques like:\n",
        "\n",
        "        scale_pos_weight parameter in XGBoost.\n",
        "\n",
        "        Class weights in AdaBoost / CatBoost.\n",
        "\n",
        "        Oversampling (SMOTE) or undersampling.\n",
        "\n",
        "-  2. Choice between AdaBoost, XGBoost, or CatBoost\n",
        "\n",
        "    - AdaBoost: Simple, works well on clean, balanced datasets → not ideal here because data is imbalanced & mixed type.\n",
        "\n",
        "    -  XGBoost: Powerful, great for structured/tabular data, but requires manual categorical handling.\n",
        "\n",
        "    -  CatBoost: Best choice here because:\n",
        "\n",
        "        -  Handles categorical features natively.\n",
        "\n",
        "        - Robust to missing values.\n",
        "\n",
        "        - Handles class imbalance with class_weights.\n",
        "\n",
        "     -  I’d start with CatBoost and compare performance against XGBoost as a benchmark.\n",
        "\n",
        "\n",
        "  - 3. Hyperparameter Tuning Strategy\n",
        "\n",
        "     - Use GridSearchCV / RandomizedSearchCV or better: Bayesian optimization (Optuna/Hyperopt) for efficiency.\n",
        "\n",
        "     - Key hyperparameters:\n",
        "\n",
        "        -  learning_rate (lower → better generalization, but slower training)\n",
        "\n",
        "        -  depth (controls model complexity)\n",
        "\n",
        "        -  n_estimators (number of boosting rounds)\n",
        "\n",
        "        -  l2_leaf_reg (regularization to avoid overfitting)\n",
        "\n",
        "        -  class_weights (to handle imbalance)\n",
        "\n",
        "     - Strategy:\n",
        "\n",
        "         -   Start with coarse random search to find a promising region.\n",
        "\n",
        "         -    Fine-tune using grid search around that region.   \n",
        "\n",
        "\n",
        "\n",
        " -  4. Evaluation Metrics\n",
        "\n",
        "    Since dataset is imbalanced, accuracy is misleading. Better metrics:\n",
        "\n",
        "       -  AUC-ROC → measures ranking ability of positive vs negative classes.\n",
        "\n",
        "       -  Precision, Recall, F1-score → especially recall (catching defaulters is critical).\n",
        "\n",
        "       -  PR-AUC (Precision-Recall AUC) → more informative for imbalanced datasets.\n",
        "\n",
        "       -  Confusion Matrix → to analyze false negatives (missed defaulters).\n",
        "\n",
        "   -  For business: I’d emphasize Recall & Precision, depending on risk appetite.  \n",
        "\n",
        "\n",
        " -  5. Business Benefits\n",
        "\n",
        "       -  Lower default rates: Model helps identify risky customers before granting loans.\n",
        "\n",
        "       -  Better risk-based pricing: High-risk customers get stricter terms (higher interest, collateral requirement).\n",
        "\n",
        "       -  Improved profitability: Reducing defaults increases net returns.\n",
        "\n",
        "       -  Customer trust: Safer lending improves company’s reputation and long-term sustainability.\n",
        "\n",
        "       -  Regulatory compliance: Transparent, explainable boosting models (especially CatBoost with feature importance & SHAP values) help satisfy regulators      \n",
        "\n"
      ],
      "metadata": {
        "id": "-HUvv13EXAtB"
      }
    },
    {
      "cell_type": "code",
      "execution_count": 8,
      "metadata": {
        "colab": {
          "base_uri": "https://localhost:8080/",
          "height": 1000
        },
        "id": "LO7DBFQLP8EQ",
        "outputId": "5b1f599b-2536-4ac9-b8ec-618b966432f7"
      },
      "outputs": [
        {
          "output_type": "stream",
          "name": "stdout",
          "text": [
            "Fitting 3 folds for each of 5 candidates, totalling 15 fits\n",
            "Best Parameters: {'learning_rate': 0.01, 'l2_leaf_reg': 9, 'iterations': 200, 'depth': 6}\n",
            "\n",
            "Classification Report:\n",
            "               precision    recall  f1-score   support\n",
            "\n",
            "           0       0.88      0.83      0.85       172\n",
            "           1       0.22      0.29      0.25        28\n",
            "\n",
            "    accuracy                           0.76       200\n",
            "   macro avg       0.55      0.56      0.55       200\n",
            "weighted avg       0.78      0.76      0.77       200\n",
            "\n",
            "ROC-AUC Score: 0.6135797342192691\n"
          ]
        },
        {
          "output_type": "display_data",
          "data": {
            "text/plain": [
              "<Figure size 500x400 with 2 Axes>"
            ],
            "image/png": "[encoded data removed]"
          },
          "metadata": {}
        },
        {
          "output_type": "display_data",
          "data": {
            "text/plain": [
              "<Figure size 600x500 with 1 Axes>"
            ],
            "image/png": "[encoded data removed]"
          },
          "metadata": {}
        }
      ],
      "source": [
        "import pandas as pd\n",
        "import numpy as np\n",
        "from sklearn.model_selection import train_test_split, RandomizedSearchCV\n",
        "from sklearn.metrics import classification_report, confusion_matrix, roc_auc_score, roc_curve\n",
        "from catboost import CatBoostClassifier, Pool\n",
        "import seaborn as sns\n",
        "import matplotlib.pyplot as plt\n",
        "\n",
        "# -------------------------\n",
        "# 1. Load Dataset\n",
        "# -------------------------\n",
        "# Replace with your dataset\n",
        "# df = pd.read_csv(\"loan_data.csv\")\n",
        "\n",
        "# Example placeholder (simulate structure)\n",
        "np.random.seed(42)\n",
        "df = pd.DataFrame({\n",
        "    \"age\": np.random.randint(18, 70, 1000),\n",
        "    \"income\": np.random.randint(20000, 100000, 1000),\n",
        "    \"gender\": np.random.choice([\"Male\", \"Female\"], 1000),\n",
        "    \"transaction_count\": np.random.randint(0, 500, 1000),\n",
        "    \"loan_default\": np.random.choice([0, 1], 1000, p=[0.85, 0.15])  # imbalanced\n",
        "})\n",
        "\n",
        "# -------------------------\n",
        "# 2. Handle Missing Values\n",
        "# -------------------------\n",
        "# Example: Fill numeric missing with median, categorical with \"Missing\"\n",
        "for col in df.columns:\n",
        "    if df[col].dtype == \"object\":\n",
        "        df[col] = df[col].fillna(\"Missing\")\n",
        "    else:\n",
        "        df[col] = df[col].fillna(df[col].median())\n",
        "\n",
        "# -------------------------\n",
        "# 3. Split Data\n",
        "# -------------------------\n",
        "X = df.drop(\"loan_default\", axis=1)\n",
        "y = df[\"loan_default\"]\n",
        "\n",
        "# Identify categorical features\n",
        "cat_features = [col for col in X.columns if X[col].dtype == \"object\"]\n",
        "\n",
        "X_train, X_test, y_train, y_test = train_test_split(\n",
        "    X, y, test_size=0.2, random_state=42, stratify=y\n",
        ")\n",
        "\n",
        "# -------------------------\n",
        "# 4. Initialize CatBoost\n",
        "# -------------------------\n",
        "model = CatBoostClassifier(\n",
        "    iterations=500,\n",
        "    learning_rate=0.1,\n",
        "    depth=6,\n",
        "    class_weights=[1, 5],  # higher weight to minority class (defaulters)\n",
        "    eval_metric=\"AUC\",\n",
        "    random_seed=42,\n",
        "    verbose=0\n",
        ")\n",
        "\n",
        "# -------------------------\n",
        "# 5. Hyperparameter Tuning (RandomizedSearchCV)\n",
        "# -------------------------\n",
        "param_grid = {\n",
        "    \"depth\": [4, 6, 8, 10],\n",
        "    \"learning_rate\": [0.01, 0.05, 0.1, 0.2],\n",
        "    \"l2_leaf_reg\": [1, 3, 5, 7, 9],\n",
        "    \"iterations\": [200, 500, 800]\n",
        "}\n",
        "\n",
        "random_search = RandomizedSearchCV(\n",
        "    estimator=model,\n",
        "    param_distributions=param_grid,\n",
        "    n_iter=5,  # increase for real tuning\n",
        "    scoring=\"roc_auc\",\n",
        "    cv=3,\n",
        "    verbose=1,\n",
        "    n_jobs=-1\n",
        ")\n",
        "\n",
        "random_search.fit(X_train, y_train, cat_features=cat_features)\n",
        "\n",
        "best_model = random_search.best_estimator_\n",
        "print(\"Best Parameters:\", random_search.best_params_)\n",
        "\n",
        "# -------------------------\n",
        "# 6. Evaluation\n",
        "# -------------------------\n",
        "y_pred = best_model.predict(X_test)\n",
        "y_proba = best_model.predict_proba(X_test)[:, 1]\n",
        "\n",
        "print(\"\\nClassification Report:\\n\", classification_report(y_test, y_pred))\n",
        "print(\"ROC-AUC Score:\", roc_auc_score(y_test, y_proba))\n",
        "\n",
        "# Confusion Matrix\n",
        "cm = confusion_matrix(y_test, y_pred)\n",
        "plt.figure(figsize=(5,4))\n",
        "sns.heatmap(cm, annot=True, fmt=\"d\", cmap=\"Blues\",\n",
        "            xticklabels=[\"No Default\", \"Default\"],\n",
        "            yticklabels=[\"No Default\", \"Default\"])\n",
        "plt.xlabel(\"Predicted\")\n",
        "plt.ylabel(\"Actual\")\n",
        "plt.title(\"Confusion Matrix - CatBoost Loan Default\")\n",
        "plt.show()\n",
        "\n",
        "# ROC Curve\n",
        "fpr, tpr, _ = roc_curve(y_test, y_proba)\n",
        "plt.figure(figsize=(6,5))\n",
        "plt.plot(fpr, tpr, label=f\"AUC = {roc_auc_score(y_test, y_proba):.3f}\")\n",
        "plt.plot([0,1],[0,1],'--', color='gray')\n",
        "plt.xlabel(\"False Positive Rate\")\n",
        "plt.ylabel(\"True Positive Rate (Recall)\")\n",
        "plt.title(\"ROC Curve - CatBoost Loan Default\")\n",
        "plt.legend()\n",
        "plt.show()\n"
      ]
    }
  ]
}